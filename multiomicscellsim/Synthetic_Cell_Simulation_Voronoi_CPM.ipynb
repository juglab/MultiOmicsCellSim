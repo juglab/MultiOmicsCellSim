{
 "cells": [
  {
   "cell_type": "markdown",
   "id": "d1bf330c",
   "metadata": {},
   "source": [
    "\n",
    "# Synthetic Cell Simulation using Voronoi and CPM\n",
    "\n",
    "This notebook implements a simulation to generate synthetic cell data using a combination of **Voronoi diagrams** and **Cellular Potts Model (CPM)**-inspired growth principles. \n",
    "We will:\n",
    "- Initialize non-overlapping cell regions using Voronoi diagrams\n",
    "- Simulate cell growth within each region based on energy and adhesion properties (inspired by CPM)\n",
    "- Assign a synthetic gene expression matrix to each cell using stochastic noise\n",
    "- Visualize the cells with color-coding based on gene expression data\n",
    "\n",
    "---\n"
   ]
  },
  {
   "cell_type": "code",
   "execution_count": null,
   "id": "24f842ce",
   "metadata": {},
   "outputs": [],
   "source": [
    "\n",
    "# Import required libraries\n",
    "import numpy as np\n",
    "import matplotlib.pyplot as plt\n",
    "from scipy.spatial import Voronoi, voronoi_plot_2d\n",
    "import random\n",
    "import pandas as pd\n"
   ]
  },
  {
   "cell_type": "markdown",
   "id": "33a1a07d",
   "metadata": {},
   "source": [
    "\n",
    "## Step 1: Voronoi Diagram Initialization\n",
    "We start by creating a Voronoi diagram to initialize cell regions, ensuring non-overlapping boundaries. Each Voronoi cell will represent an individual cell in the simulation.\n"
   ]
  },
  {
   "cell_type": "code",
   "execution_count": null,
   "id": "0b296924",
   "metadata": {},
   "outputs": [],
   "source": [
    "\n",
    "# Generate random seed points\n",
    "num_cells = 20  # Number of cells to simulate\n",
    "np.random.seed(0)\n",
    "points = np.random.rand(num_cells, 2)\n",
    "\n",
    "# Create Voronoi diagram based on the points\n",
    "vor = Voronoi(points)\n",
    "\n",
    "# Plot the Voronoi diagram\n",
    "fig, ax = plt.subplots(figsize=(8, 8))\n",
    "voronoi_plot_2d(vor, ax=ax, show_vertices=False, line_colors='black')\n",
    "plt.scatter(points[:, 0], points[:, 1], color='red')\n",
    "plt.title('Voronoi Diagram Initialization')\n",
    "plt.show()\n"
   ]
  },
  {
   "cell_type": "markdown",
   "id": "f6009faa",
   "metadata": {},
   "source": [
    "\n",
    "## Step 2: CPM-Inspired Cell Growth and Properties\n",
    "\n",
    "In this section, we define properties like **energy** and **adhesion** for each cell, inspired by CPM. We assign each cell an initial energy level and simulate growth by adjusting cell boundaries (simulated here as cell area).\n"
   ]
  },
  {
   "cell_type": "code",
   "execution_count": null,
   "id": "af75b025",
   "metadata": {},
   "outputs": [],
   "source": [
    "\n",
    "# Define initial properties for each cell\n",
    "cell_properties = {\n",
    "    'energy': np.random.rand(num_cells) * 10,  # Random initial energy level\n",
    "    'adhesion': np.random.rand(num_cells) * 5  # Random adhesion strength\n",
    "}\n",
    "\n",
    "# Basic function to simulate growth based on energy (placeholder function)\n",
    "def simulate_growth(cell_properties):\n",
    "    # Placeholder logic to increment cell energy to simulate growth over time\n",
    "    for i in range(num_cells):\n",
    "        cell_properties['energy'][i] += random.uniform(-1, 1)  # Simulate slight energy fluctuation\n",
    "    return cell_properties\n",
    "\n",
    "# Simulate cell growth over 10 time steps\n",
    "for _ in range(10):\n",
    "    cell_properties = simulate_growth(cell_properties)\n",
    "\n",
    "# Display final cell properties\n",
    "pd.DataFrame(cell_properties)\n"
   ]
  },
  {
   "cell_type": "markdown",
   "id": "9c1bad5a",
   "metadata": {},
   "source": [
    "\n",
    "## Step 3: Synthetic Gene Expression Matrix\n",
    "\n",
    "Each cell is assigned a synthetic gene expression profile based on its properties, with stochastic noise added to simulate variability.\n"
   ]
  },
  {
   "cell_type": "code",
   "execution_count": null,
   "id": "f868c8be",
   "metadata": {},
   "outputs": [],
   "source": [
    "\n",
    "# Generate synthetic gene expression data\n",
    "num_genes = 50  # Number of genes to simulate\n",
    "\n",
    "def generate_gene_expression(cell_properties, num_genes):\n",
    "    gene_expression = []\n",
    "    for i in range(num_cells):\n",
    "        # Base expression based on cell's energy and adhesion, with added noise\n",
    "        expression = cell_properties['energy'][i] * np.random.rand(num_genes) +                      cell_properties['adhesion'][i] * np.random.rand(num_genes)\n",
    "        gene_expression.append(expression)\n",
    "    return np.array(gene_expression)\n",
    "\n",
    "# Generate and display gene expression matrix\n",
    "gene_expression_matrix = generate_gene_expression(cell_properties, num_genes)\n",
    "gene_expression_df = pd.DataFrame(gene_expression_matrix, columns=[f'Gene_{i+1}' for i in range(num_genes)])\n",
    "gene_expression_df.head()\n"
   ]
  },
  {
   "cell_type": "markdown",
   "id": "8242e6ec",
   "metadata": {},
   "source": [
    "\n",
    "## Step 4: Visualization with Gene Expression\n",
    "\n",
    "Visualize the cells and color them based on an arbitrary gene expression level (e.g., Gene_1) to demonstrate how expression data could be mapped visually.\n"
   ]
  },
  {
   "cell_type": "code",
   "execution_count": null,
   "id": "bdb4451e",
   "metadata": {},
   "outputs": [],
   "source": [
    "\n",
    "# Plot Voronoi cells with color-coding based on expression level of Gene_1\n",
    "gene_1_expression = gene_expression_matrix[:, 0]  # Use the first gene for color coding\n",
    "fig, ax = plt.subplots(figsize=(8, 8))\n",
    "voronoi_plot_2d(vor, ax=ax, show_vertices=False, line_colors='black')\n",
    "\n",
    "# Color cells based on Gene_1 expression\n",
    "for region, expr in zip(vor.regions, gene_1_expression):\n",
    "    if not -1 in region and len(region) > 0:\n",
    "        polygon = [vor.vertices[i] for i in region]\n",
    "        ax.fill(*zip(*polygon), color=plt.cm.viridis(expr / max(gene_1_expression)))\n",
    "\n",
    "plt.scatter(points[:, 0], points[:, 1], color='red')\n",
    "plt.title('Cells Color-Coded by Gene_1 Expression')\n",
    "plt.show()\n"
   ]
  }
 ],
 "metadata": {},
 "nbformat": 4,
 "nbformat_minor": 5
}
