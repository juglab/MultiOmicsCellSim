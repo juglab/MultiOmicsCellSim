{
 "cells": [
  {
   "cell_type": "code",
   "execution_count": null,
   "metadata": {},
   "outputs": [],
   "source": [
    "import matplotlib.pyplot as plt\n",
    "from multiomicscellsim import Simulator\n",
    "from multiomicscellsim.config import SimulatorConfig, TissueConfig\n",
    "\n",
    "from multiomicscellsim.torch_cpm.config import TorchCPMConfig, TorchCPMCellType\n",
    "from multiomicscellsim.patterns.config import RDPatternLibrary\n",
    "\n",
    "from IPython.display import HTML\n",
    "\n",
    "size = 1024\n",
    "n_cell_types = 2\n",
    "\n",
    "# TODOs:\n",
    "# - Add a distirbution across cell_types across a guideline\n",
    "\n",
    "# Define some cell types\n",
    "\n",
    "cell_types = [\n",
    "    TorchCPMCellType(id=1,\n",
    "                     name=\"A\",\n",
    "                     background_adhesion=10.0,\n",
    "                     cells_adhesion=TorchCPMCellType.build_constant_adhesion_vector(x=10.0, this_id=1, n_types=n_cell_types),\n",
    "                     preferred_volume=int(0.2*size**2),\n",
    "                     preferred_local_perimeter=4.0,\n",
    "                     # RDPatternConfig contains f, k, D_a, D_b params)\n",
    "                     subcellular_pattern=RDPatternLibrary.get_pattern_by_name('Worms')#.add_noise(to=[\"d_a\", \"d_b\"], var=.01),\n",
    "    ),\n",
    "    TorchCPMCellType(id=2,\n",
    "                     name=\"B\",\n",
    "                     background_adhesion=10.0,\n",
    "                     cells_adhesion=TorchCPMCellType.build_constant_adhesion_vector(x=10.0, this_id=2, n_types=n_cell_types),\n",
    "                     preferred_volume=int(0.2*size**2),\n",
    "                     preferred_local_perimeter=4.0,\n",
    "                     subcellular_pattern=RDPatternLibrary.get_pattern_by_name('Fingerprints')#.add_noise(to=[\"d_a\", \"d_b\"], var=.01),\n",
    "    )\n",
    "]\n",
    "\n",
    "# Define the global simulation parameters\n",
    "\n",
    "sim_config = SimulatorConfig(\n",
    "    tissue_config = TissueConfig(\n",
    "        n_curves=2,\n",
    "        curve_types=\"circles\",\n",
    "        cell_number_mean = 5,\n",
    "        cell_number_std = 3,\n",
    "        cell_type_probabilities = [[.3, .7], [.7, .3]],\n",
    "        initial_cell_size=7,\n",
    "    ),\n",
    "    cpm_config = TorchCPMConfig(\n",
    "        size=size,\n",
    "        frontier_probability=0.8,\n",
    "        temperature=1.0,\n",
    "        cell_types=cell_types,\n",
    "        lambda_volume=10.0,\n",
    "        lambda_perimeter=10.0,\n",
    "        max_cpm_steps=1000,\n",
    "        run_rd_every=2,\n",
    "        rd_warmup_steps=10000,\n",
    "        rd_steps=100,\n",
    "        device=\"cuda\"\n",
    "    ),\n",
    "    save_tissue_every=5,\n",
    "    seed=42,\n",
    "\n",
    ")\n",
    "\n"
   ]
  },
  {
   "cell_type": "code",
   "execution_count": null,
   "metadata": {},
   "outputs": [],
   "source": [
    "sim = Simulator(config=sim_config)\n",
    "tissues = sim.tissue_generator.sample()"
   ]
  },
  {
   "cell_type": "code",
   "execution_count": null,
   "metadata": {},
   "outputs": [],
   "source": [
    "HTML(sim.plot_tissues(tissues))"
   ]
  }
 ],
 "metadata": {
  "kernelspec": {
   "display_name": "mycroverse",
   "language": "python",
   "name": "python3"
  },
  "language_info": {
   "codemirror_mode": {
    "name": "ipython",
    "version": 3
   },
   "file_extension": ".py",
   "mimetype": "text/x-python",
   "name": "python",
   "nbconvert_exporter": "python",
   "pygments_lexer": "ipython3",
   "version": "3.10.16"
  }
 },
 "nbformat": 4,
 "nbformat_minor": 2
}
